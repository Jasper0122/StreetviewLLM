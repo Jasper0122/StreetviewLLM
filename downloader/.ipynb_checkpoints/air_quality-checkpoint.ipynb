{
 "cells": [
  {
   "cell_type": "code",
   "execution_count": null,
   "id": "982d6982",
   "metadata": {},
   "outputs": [],
   "source": [
    "import os\n",
    "import pandas as pd\n",
    "import numpy as np\n",
    "import ee"
   ]
  },
  {
   "cell_type": "code",
   "execution_count": 2,
   "id": "ae8fa5bb",
   "metadata": {},
   "outputs": [],
   "source": [
    "# 认证并初始化Google Earth Engine\n",
    "ee.Authenticate()  # 只需要在第一次运行时执行\n",
    "ee.Initialize(project= 'ee-zongrong-flood')"
   ]
  },
  {
   "cell_type": "code",
   "execution_count": null,
   "id": "edca25e5",
   "metadata": {},
   "outputs": [],
   "source": [
    "# Load the image collection and select the band\n",
    "collection = ee.ImageCollection('COPERNICUS/S5P/NRTI/L3_CO') \\\n",
    "    .select('CO_column_number_density') \\\n",
    "    .filterDate('2023-12-01', '2023-12-11')\n",
    "\n",
    "# Calculate the mean image for the given period\n",
    "mean_image = collection.mean()\n",
    "\n",
    "# Calculate the min and max values for the CO_column_number_density band\n",
    "min_max = mean_image.reduceRegion(\n",
    "    reducer=ee.Reducer.minMax(),\n",
    "    geometry=ee.Geometry.BBox(-180, -90, 180, 90),\n",
    "    scale=1113.2,  # Approximately 1km scale\n",
    "    bestEffort=True\n",
    ").getInfo()\n",
    "\n",
    "min_value = min_max['CO_column_number_density_min']\n",
    "max_value = min_max['CO_column_number_density_max']\n",
    "\n",
    "print(f\"CO_column_number_density - Min value: {min_value}, Max value: {max_value}\")"
   ]
  },
  {
   "cell_type": "code",
   "execution_count": null,
   "id": "d4c46283",
   "metadata": {},
   "outputs": [],
   "source": [
    "# Function to get CO value at given coordinates and normalize it\n",
    "def get_co_value(coords):\n",
    "    point = ee.Geometry.Point(coords)\n",
    "    co_value = mean_image.reduceRegion(\n",
    "        reducer=ee.Reducer.mean(),\n",
    "        geometry=point,\n",
    "        scale=1113.2\n",
    "    ).get('CO_column_number_density')\n",
    "    \n",
    "    value = co_value.getInfo()\n",
    "    if value is None:\n",
    "        # If the value is None, use neighborhood interpolation to fill the gap\n",
    "        co_value = mean_image.reduceNeighborhood(\n",
    "            reducer=ee.Reducer.mean(),\n",
    "            kernel=ee.Kernel.square(5),  # Increase the kernel size\n",
    "            optimization='boxcar'\n",
    "        ).reduceRegion(\n",
    "            reducer=ee.Reducer.mean(),\n",
    "            geometry=point,\n",
    "            scale=1113.2,\n",
    "            bestEffort=True\n",
    "        ).get('CO_column_number_density')\n",
    "        \n",
    "        value = co_value.getInfo()\n",
    "        if value is None:\n",
    "            return 0\n",
    "    \n",
    "    # Apply conditional normalization\n",
    "    if value > 50:\n",
    "        normalized_value = 10\n",
    "    else:\n",
    "        normalized_value = (value - min_value) / (max_value - min_value) * 10\n",
    "\n",
    "    print(f\"Coordinates: {coords}, Original value: {value}, Normalized value: {normalized_value}\")  # Debugging line\n",
    "    return normalized_value\n",
    "\n",
    "# Specify the input and output directories\n",
    "input_dir = 'C:/Users/lzr/SSCI/StreetviewLLM/groudtruth/Sampling'\n",
    "output_dir = 'C:/Users/lzr/SSCI/StreetviewLLM/groudtruth/air_quality'\n",
    "\n",
    "# Ensure the output directory exists\n",
    "os.makedirs(output_dir, exist_ok=True)\n",
    "\n",
    "# Process each CSV file in the input directory\n",
    "for filename in os.listdir(input_dir):\n",
    "    if filename.endswith('.csv'):\n",
    "        input_csv = os.path.join(input_dir, filename)\n",
    "        df = pd.read_csv(input_csv)\n",
    "        \n",
    "        # Create a new column for CO values\n",
    "        df['CO_2019'] = df.apply(lambda row: get_co_value([row['longitude'], row['latitude']]), axis=1)\n",
    "        \n",
    "        # Define the output filename\n",
    "        output_csv = os.path.join(output_dir, f\"{os.path.splitext(filename)[0]}_air_quality.csv\")\n",
    "        \n",
    "        # Save the new dataframe to a CSV file\n",
    "        df.to_csv(output_csv, index=False)\n",
    "        \n",
    "        print(f\"Processed {input_csv} and saved with CO density values as {output_csv}\")\n",
    "\n",
    "print(\"All CSV files processed.\")"
   ]
  }
 ],
 "metadata": {
  "kernelspec": {
   "display_name": "Python 3 (ipykernel)",
   "language": "python",
   "name": "python3"
  },
  "language_info": {
   "codemirror_mode": {
    "name": "ipython",
    "version": 3
   },
   "file_extension": ".py",
   "mimetype": "text/x-python",
   "name": "python",
   "nbconvert_exporter": "python",
   "pygments_lexer": "ipython3",
   "version": "3.11.3"
  }
 },
 "nbformat": 4,
 "nbformat_minor": 5
}
