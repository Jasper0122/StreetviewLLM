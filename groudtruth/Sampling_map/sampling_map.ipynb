{
 "cells": [
  {
   "cell_type": "code",
   "execution_count": 1,
   "id": "9e94a01f",
   "metadata": {},
   "outputs": [
    {
     "name": "stdout",
     "output_type": "stream",
     "text": [
      "Map created for Hongkong_updated_test.csv: C:/Users/lzr/SSCI/StreetviewLLM/groudtruth/Sampling_map\\Hongkong_updated_test_map.html\n",
      "Map created for Hongkong_updated_train.csv: C:/Users/lzr/SSCI/StreetviewLLM/groudtruth/Sampling_map\\Hongkong_updated_train_map.html\n",
      "Map created for LA_updated_test.csv: C:/Users/lzr/SSCI/StreetviewLLM/groudtruth/Sampling_map\\LA_updated_test_map.html\n",
      "Map created for LA_updated_train.csv: C:/Users/lzr/SSCI/StreetviewLLM/groudtruth/Sampling_map\\LA_updated_train_map.html\n",
      "Map created for London_updated_test.csv: C:/Users/lzr/SSCI/StreetviewLLM/groudtruth/Sampling_map\\London_updated_test_map.html\n",
      "Map created for London_updated_train.csv: C:/Users/lzr/SSCI/StreetviewLLM/groudtruth/Sampling_map\\London_updated_train_map.html\n",
      "Map created for NYC_updated_test.csv: C:/Users/lzr/SSCI/StreetviewLLM/groudtruth/Sampling_map\\NYC_updated_test_map.html\n",
      "Map created for NYC_updated_train.csv: C:/Users/lzr/SSCI/StreetviewLLM/groudtruth/Sampling_map\\NYC_updated_train_map.html\n",
      "Map created for Paris_updated_test.csv: C:/Users/lzr/SSCI/StreetviewLLM/groudtruth/Sampling_map\\Paris_updated_test_map.html\n",
      "Map created for Paris_updated_train.csv: C:/Users/lzr/SSCI/StreetviewLLM/groudtruth/Sampling_map\\Paris_updated_train_map.html\n",
      "Map created for Singapore_updated_test.csv: C:/Users/lzr/SSCI/StreetviewLLM/groudtruth/Sampling_map\\Singapore_updated_test_map.html\n",
      "Map created for Singapore_updated_train.csv: C:/Users/lzr/SSCI/StreetviewLLM/groudtruth/Sampling_map\\Singapore_updated_train_map.html\n",
      "Map created for Tokyo_updated_test.csv: C:/Users/lzr/SSCI/StreetviewLLM/groudtruth/Sampling_map\\Tokyo_updated_test_map.html\n",
      "Map created for Tokyo_updated_train.csv: C:/Users/lzr/SSCI/StreetviewLLM/groudtruth/Sampling_map\\Tokyo_updated_train_map.html\n"
     ]
    }
   ],
   "source": [
    "import os\n",
    "import pandas as pd\n",
    "import folium\n",
    "\n",
    "# Function to create a map from a CSV file\n",
    "def create_map_from_csv(file_path, output_folder):\n",
    "    # Load the CSV file\n",
    "    df = pd.read_csv(file_path)\n",
    "    \n",
    "    # Create a base map centered around the mean latitude and longitude\n",
    "    m = folium.Map(location=[df['latitude'].mean(), df['longitude'].mean()], zoom_start=12)\n",
    "    \n",
    "    # Add points to the map\n",
    "    for _, row in df.iterrows():\n",
    "        folium.Marker(location=[row['latitude'], row['longitude']]).add_to(m)\n",
    "    \n",
    "    # Generate the output file path\n",
    "    base_name = os.path.basename(file_path)\n",
    "    output_file_name = f\"{os.path.splitext(base_name)[0]}_map.html\"\n",
    "    output_file_path = os.path.join(output_folder, output_file_name)\n",
    "    \n",
    "    # Save the map to an HTML file\n",
    "    m.save(output_file_path)\n",
    "    return output_file_path\n",
    "\n",
    "# Folder containing the input CSV files\n",
    "input_folder = 'C:/Users/lzr/SSCI/StreetviewLLM/groudtruth/Sampling'  # Change this to your input folder path\n",
    "output_folder = 'C:/Users/lzr/SSCI/StreetviewLLM/groudtruth/Sampling_map'  # Change this to your output folder path\n",
    "\n",
    "# Ensure the output folder exists\n",
    "os.makedirs(output_folder, exist_ok=True)\n",
    "\n",
    "# Iterate through all CSV files in the input folder\n",
    "for file_name in os.listdir(input_folder):\n",
    "    if file_name.endswith('.csv'):\n",
    "        input_file_path = os.path.join(input_folder, file_name)\n",
    "        output_file_path = create_map_from_csv(input_file_path, output_folder)\n",
    "        print(f\"Map created for {file_name}: {output_file_path}\")\n"
   ]
  },
  {
   "cell_type": "code",
   "execution_count": null,
   "id": "d47f1e32",
   "metadata": {},
   "outputs": [],
   "source": []
  }
 ],
 "metadata": {
  "kernelspec": {
   "display_name": "Python 3 (ipykernel)",
   "language": "python",
   "name": "python3"
  },
  "language_info": {
   "codemirror_mode": {
    "name": "ipython",
    "version": 3
   },
   "file_extension": ".py",
   "mimetype": "text/x-python",
   "name": "python",
   "nbconvert_exporter": "python",
   "pygments_lexer": "ipython3",
   "version": "3.11.3"
  }
 },
 "nbformat": 4,
 "nbformat_minor": 5
}
